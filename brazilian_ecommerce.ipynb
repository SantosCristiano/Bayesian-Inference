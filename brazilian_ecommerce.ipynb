{
 "cells": [
  {
   "cell_type": "markdown",
   "id": "0cd15d3a",
   "metadata": {},
   "source": [
    "# 0.0. Imports"
   ]
  },
  {
   "cell_type": "code",
   "execution_count": 5,
   "id": "c98c9255",
   "metadata": {},
   "outputs": [],
   "source": [
    "import pandas as pd\n",
    "import numpy  as np\n",
    "import pymc3  as pm\n",
    "from matplotlib import pyplot as plt"
   ]
  },
  {
   "cell_type": "markdown",
   "id": "5784f20f",
   "metadata": {},
   "source": [
    "## 0.1. Loading Data"
   ]
  },
  {
   "cell_type": "code",
   "execution_count": 6,
   "id": "75960f73",
   "metadata": {
    "scrolled": true
   },
   "outputs": [
    {
     "name": "stdout",
     "output_type": "stream",
     "text": [
      " O volume na unidade C ‚ Windows\n",
      " O N£mero de S‚rie do Volume ‚ 0C28-C25D\n",
      "\n"
     ]
    },
    {
     "name": "stderr",
     "output_type": "stream",
     "text": [
      "Arquivo nÆo encontrado\n"
     ]
    },
    {
     "name": "stdout",
     "output_type": "stream",
     "text": [
      " Pasta de C:\\Users\\santo\\repos\\DataScience\n",
      "\n",
      "\n",
      " Pasta de C:\\Users\\santo\\repos\\DataScience\\brazilian-ecommerce\n",
      "\n",
      "22/06/2021  23:04    <DIR>          .\n",
      "22/06/2021  23:04    <DIR>          ..\n",
      "21/06/2021  06:11         9.033.957 olist_customers_dataset.csv\n",
      "21/06/2021  06:11        61.273.883 olist_geolocation_dataset.csv\n",
      "21/06/2021  06:11        15.438.671 olist_order_items_dataset.csv\n",
      "21/06/2021  06:11         5.777.138 olist_order_payments_dataset.csv\n",
      "21/06/2021  06:11        14.409.007 olist_order_reviews_dataset.csv\n",
      "21/06/2021  06:11        17.654.914 olist_orders_dataset.csv\n",
      "21/06/2021  06:11         2.379.446 olist_products_dataset.csv\n",
      "21/06/2021  06:11           174.703 olist_sellers_dataset.csv\n",
      "21/06/2021  06:11             2.613 product_category_name_translation.csv\n",
      "               9 arquivo(s)    126.144.332 bytes\n",
      "               2 pasta(s)   848.408.850.432 bytes dispon¡veis\n"
     ]
    }
   ],
   "source": [
    "ls -l brazilian-ecommerce"
   ]
  },
  {
   "cell_type": "code",
   "execution_count": 8,
   "id": "2b212886",
   "metadata": {},
   "outputs": [],
   "source": [
    "df_raw = pd.read_csv( 'brazilian-ecommerce/olist_orders_dataset.csv')"
   ]
  },
  {
   "cell_type": "code",
   "execution_count": 9,
   "id": "50bef695",
   "metadata": {},
   "outputs": [
    {
     "data": {
      "text/html": [
       "<div>\n",
       "<style scoped>\n",
       "    .dataframe tbody tr th:only-of-type {\n",
       "        vertical-align: middle;\n",
       "    }\n",
       "\n",
       "    .dataframe tbody tr th {\n",
       "        vertical-align: top;\n",
       "    }\n",
       "\n",
       "    .dataframe thead th {\n",
       "        text-align: right;\n",
       "    }\n",
       "</style>\n",
       "<table border=\"1\" class=\"dataframe\">\n",
       "  <thead>\n",
       "    <tr style=\"text-align: right;\">\n",
       "      <th></th>\n",
       "      <th>order_id</th>\n",
       "      <th>customer_id</th>\n",
       "      <th>order_status</th>\n",
       "      <th>order_purchase_timestamp</th>\n",
       "      <th>order_approved_at</th>\n",
       "      <th>order_delivered_carrier_date</th>\n",
       "      <th>order_delivered_customer_date</th>\n",
       "      <th>order_estimated_delivery_date</th>\n",
       "    </tr>\n",
       "  </thead>\n",
       "  <tbody>\n",
       "    <tr>\n",
       "      <th>90620</th>\n",
       "      <td>87df71eb46077c66a8e53d4e92bc71ef</td>\n",
       "      <td>c0254dbd03486d74cdefd62c0e0155d3</td>\n",
       "      <td>delivered</td>\n",
       "      <td>2018-04-24 19:05:19</td>\n",
       "      <td>2018-04-25 03:15:20</td>\n",
       "      <td>2018-04-25 14:20:00</td>\n",
       "      <td>2018-05-07 20:47:39</td>\n",
       "      <td>2018-05-18 00:00:00</td>\n",
       "    </tr>\n",
       "  </tbody>\n",
       "</table>\n",
       "</div>"
      ],
      "text/plain": [
       "                               order_id                       customer_id  \\\n",
       "90620  87df71eb46077c66a8e53d4e92bc71ef  c0254dbd03486d74cdefd62c0e0155d3   \n",
       "\n",
       "      order_status order_purchase_timestamp    order_approved_at  \\\n",
       "90620    delivered      2018-04-24 19:05:19  2018-04-25 03:15:20   \n",
       "\n",
       "      order_delivered_carrier_date order_delivered_customer_date  \\\n",
       "90620          2018-04-25 14:20:00           2018-05-07 20:47:39   \n",
       "\n",
       "      order_estimated_delivery_date  \n",
       "90620           2018-05-18 00:00:00  "
      ]
     },
     "execution_count": 9,
     "metadata": {},
     "output_type": "execute_result"
    }
   ],
   "source": [
    "df_raw.sample()"
   ]
  },
  {
   "cell_type": "markdown",
   "id": "9d84fced",
   "metadata": {},
   "source": [
    "# 1.0. Data Description"
   ]
  },
  {
   "cell_type": "code",
   "execution_count": 10,
   "id": "83978632",
   "metadata": {},
   "outputs": [],
   "source": [
    "df1 = df_raw.copy()"
   ]
  },
  {
   "cell_type": "markdown",
   "id": "790e56f9",
   "metadata": {},
   "source": [
    "## 1.1. Data Dimensions"
   ]
  },
  {
   "cell_type": "code",
   "execution_count": 11,
   "id": "93225c28",
   "metadata": {},
   "outputs": [
    {
     "name": "stdout",
     "output_type": "stream",
     "text": [
      "Number of Rows: 99441\n",
      "Number of Cols: 8\n"
     ]
    }
   ],
   "source": [
    "print('Number of Rows: {}'.format(df1.shape[0]))\n",
    "print('Number of Cols: {}'.format(df1.shape[1]))"
   ]
  },
  {
   "cell_type": "markdown",
   "id": "60932cb6",
   "metadata": {},
   "source": [
    "## 1.2. Data Type"
   ]
  },
  {
   "cell_type": "code",
   "execution_count": 12,
   "id": "3ab1a607",
   "metadata": {},
   "outputs": [
    {
     "data": {
      "text/plain": [
       "order_id                                 object\n",
       "customer_id                              object\n",
       "order_status                             object\n",
       "order_purchase_timestamp         datetime64[ns]\n",
       "order_approved_at                        object\n",
       "order_delivered_carrier_date             object\n",
       "order_delivered_customer_date            object\n",
       "order_estimated_delivery_date            object\n",
       "dtype: object"
      ]
     },
     "execution_count": 12,
     "metadata": {},
     "output_type": "execute_result"
    }
   ],
   "source": [
    "df1['order_purchase_timestamp'] = pd.to_datetime(df1['order_purchase_timestamp'])\n",
    "df1.dtypes"
   ]
  },
  {
   "cell_type": "markdown",
   "id": "f23b6c2f",
   "metadata": {},
   "source": [
    "## 1.3. Data Missing"
   ]
  },
  {
   "cell_type": "code",
   "execution_count": 13,
   "id": "00322c8a",
   "metadata": {},
   "outputs": [
    {
     "data": {
      "text/plain": [
       "order_id                            0\n",
       "customer_id                         0\n",
       "order_status                        0\n",
       "order_purchase_timestamp            0\n",
       "order_approved_at                 160\n",
       "order_delivered_carrier_date     1783\n",
       "order_delivered_customer_date    2965\n",
       "order_estimated_delivery_date       0\n",
       "dtype: int64"
      ]
     },
     "execution_count": 13,
     "metadata": {},
     "output_type": "execute_result"
    }
   ],
   "source": [
    "df1.isna().sum()"
   ]
  },
  {
   "cell_type": "markdown",
   "id": "06868354",
   "metadata": {},
   "source": [
    "# 2.0. Feature Engeneering"
   ]
  },
  {
   "cell_type": "code",
   "execution_count": 14,
   "id": "9938e236",
   "metadata": {},
   "outputs": [
    {
     "data": {
      "text/html": [
       "<div>\n",
       "<style scoped>\n",
       "    .dataframe tbody tr th:only-of-type {\n",
       "        vertical-align: middle;\n",
       "    }\n",
       "\n",
       "    .dataframe tbody tr th {\n",
       "        vertical-align: top;\n",
       "    }\n",
       "\n",
       "    .dataframe thead th {\n",
       "        text-align: right;\n",
       "    }\n",
       "</style>\n",
       "<table border=\"1\" class=\"dataframe\">\n",
       "  <thead>\n",
       "    <tr style=\"text-align: right;\">\n",
       "      <th></th>\n",
       "      <th>order_id</th>\n",
       "      <th>customer_id</th>\n",
       "      <th>order_status</th>\n",
       "      <th>order_purchase_timestamp</th>\n",
       "      <th>order_approved_at</th>\n",
       "      <th>order_delivered_carrier_date</th>\n",
       "      <th>order_delivered_customer_date</th>\n",
       "      <th>order_estimated_delivery_date</th>\n",
       "    </tr>\n",
       "  </thead>\n",
       "  <tbody>\n",
       "    <tr>\n",
       "      <th>0</th>\n",
       "      <td>e481f51cbdc54678b7cc49136f2d6af7</td>\n",
       "      <td>9ef432eb6251297304e76186b10a928d</td>\n",
       "      <td>delivered</td>\n",
       "      <td>2017-10-02 10:56:33</td>\n",
       "      <td>2017-10-02 11:07:15</td>\n",
       "      <td>2017-10-04 19:55:00</td>\n",
       "      <td>2017-10-10 21:25:13</td>\n",
       "      <td>2017-10-18 00:00:00</td>\n",
       "    </tr>\n",
       "    <tr>\n",
       "      <th>1</th>\n",
       "      <td>53cdb2fc8bc7dce0b6741e2150273451</td>\n",
       "      <td>b0830fb4747a6c6d20dea0b8c802d7ef</td>\n",
       "      <td>delivered</td>\n",
       "      <td>2018-07-24 20:41:37</td>\n",
       "      <td>2018-07-26 03:24:27</td>\n",
       "      <td>2018-07-26 14:31:00</td>\n",
       "      <td>2018-08-07 15:27:45</td>\n",
       "      <td>2018-08-13 00:00:00</td>\n",
       "    </tr>\n",
       "    <tr>\n",
       "      <th>2</th>\n",
       "      <td>47770eb9100c2d0c44946d9cf07ec65d</td>\n",
       "      <td>41ce2a54c0b03bf3443c3d931a367089</td>\n",
       "      <td>delivered</td>\n",
       "      <td>2018-08-08 08:38:49</td>\n",
       "      <td>2018-08-08 08:55:23</td>\n",
       "      <td>2018-08-08 13:50:00</td>\n",
       "      <td>2018-08-17 18:06:29</td>\n",
       "      <td>2018-09-04 00:00:00</td>\n",
       "    </tr>\n",
       "    <tr>\n",
       "      <th>3</th>\n",
       "      <td>949d5b44dbf5de918fe9c16f97b45f8a</td>\n",
       "      <td>f88197465ea7920adcdbec7375364d82</td>\n",
       "      <td>delivered</td>\n",
       "      <td>2017-11-18 19:28:06</td>\n",
       "      <td>2017-11-18 19:45:59</td>\n",
       "      <td>2017-11-22 13:39:59</td>\n",
       "      <td>2017-12-02 00:28:42</td>\n",
       "      <td>2017-12-15 00:00:00</td>\n",
       "    </tr>\n",
       "    <tr>\n",
       "      <th>4</th>\n",
       "      <td>ad21c59c0840e6cb83a9ceb5573f8159</td>\n",
       "      <td>8ab97904e6daea8866dbdbc4fb7aad2c</td>\n",
       "      <td>delivered</td>\n",
       "      <td>2018-02-13 21:18:39</td>\n",
       "      <td>2018-02-13 22:20:29</td>\n",
       "      <td>2018-02-14 19:46:34</td>\n",
       "      <td>2018-02-16 18:17:02</td>\n",
       "      <td>2018-02-26 00:00:00</td>\n",
       "    </tr>\n",
       "  </tbody>\n",
       "</table>\n",
       "</div>"
      ],
      "text/plain": [
       "                           order_id                       customer_id  \\\n",
       "0  e481f51cbdc54678b7cc49136f2d6af7  9ef432eb6251297304e76186b10a928d   \n",
       "1  53cdb2fc8bc7dce0b6741e2150273451  b0830fb4747a6c6d20dea0b8c802d7ef   \n",
       "2  47770eb9100c2d0c44946d9cf07ec65d  41ce2a54c0b03bf3443c3d931a367089   \n",
       "3  949d5b44dbf5de918fe9c16f97b45f8a  f88197465ea7920adcdbec7375364d82   \n",
       "4  ad21c59c0840e6cb83a9ceb5573f8159  8ab97904e6daea8866dbdbc4fb7aad2c   \n",
       "\n",
       "  order_status order_purchase_timestamp    order_approved_at  \\\n",
       "0    delivered      2017-10-02 10:56:33  2017-10-02 11:07:15   \n",
       "1    delivered      2018-07-24 20:41:37  2018-07-26 03:24:27   \n",
       "2    delivered      2018-08-08 08:38:49  2018-08-08 08:55:23   \n",
       "3    delivered      2017-11-18 19:28:06  2017-11-18 19:45:59   \n",
       "4    delivered      2018-02-13 21:18:39  2018-02-13 22:20:29   \n",
       "\n",
       "  order_delivered_carrier_date order_delivered_customer_date  \\\n",
       "0          2017-10-04 19:55:00           2017-10-10 21:25:13   \n",
       "1          2018-07-26 14:31:00           2018-08-07 15:27:45   \n",
       "2          2018-08-08 13:50:00           2018-08-17 18:06:29   \n",
       "3          2017-11-22 13:39:59           2017-12-02 00:28:42   \n",
       "4          2018-02-14 19:46:34           2018-02-16 18:17:02   \n",
       "\n",
       "  order_estimated_delivery_date  \n",
       "0           2017-10-18 00:00:00  \n",
       "1           2018-08-13 00:00:00  \n",
       "2           2018-09-04 00:00:00  \n",
       "3           2017-12-15 00:00:00  \n",
       "4           2018-02-26 00:00:00  "
      ]
     },
     "execution_count": 14,
     "metadata": {},
     "output_type": "execute_result"
    }
   ],
   "source": [
    "df1.head()"
   ]
  },
  {
   "cell_type": "code",
   "execution_count": 15,
   "id": "f2356c1b",
   "metadata": {},
   "outputs": [],
   "source": [
    "df2 = df1.copy()"
   ]
  },
  {
   "cell_type": "markdown",
   "id": "452f9543",
   "metadata": {},
   "source": [
    "## 2.1. Feature Creation"
   ]
  },
  {
   "cell_type": "code",
   "execution_count": 16,
   "id": "d28df7d7",
   "metadata": {},
   "outputs": [],
   "source": [
    "df2['order_purchase_year_week'] = df2['order_purchase_timestamp'].dt.strftime('%Y%W')"
   ]
  },
  {
   "cell_type": "code",
   "execution_count": 17,
   "id": "e56c72ce",
   "metadata": {},
   "outputs": [
    {
     "data": {
      "text/html": [
       "<div>\n",
       "<style scoped>\n",
       "    .dataframe tbody tr th:only-of-type {\n",
       "        vertical-align: middle;\n",
       "    }\n",
       "\n",
       "    .dataframe tbody tr th {\n",
       "        vertical-align: top;\n",
       "    }\n",
       "\n",
       "    .dataframe thead th {\n",
       "        text-align: right;\n",
       "    }\n",
       "</style>\n",
       "<table border=\"1\" class=\"dataframe\">\n",
       "  <thead>\n",
       "    <tr style=\"text-align: right;\">\n",
       "      <th></th>\n",
       "      <th>32198</th>\n",
       "    </tr>\n",
       "  </thead>\n",
       "  <tbody>\n",
       "    <tr>\n",
       "      <th>order_id</th>\n",
       "      <td>8c59638b578341d034f1d7ffce0a5575</td>\n",
       "    </tr>\n",
       "    <tr>\n",
       "      <th>customer_id</th>\n",
       "      <td>9e8589c52f8d894c393473469d98624c</td>\n",
       "    </tr>\n",
       "    <tr>\n",
       "      <th>order_status</th>\n",
       "      <td>delivered</td>\n",
       "    </tr>\n",
       "    <tr>\n",
       "      <th>order_purchase_timestamp</th>\n",
       "      <td>2018-01-21 20:54:08</td>\n",
       "    </tr>\n",
       "    <tr>\n",
       "      <th>order_approved_at</th>\n",
       "      <td>2018-01-22 13:59:03</td>\n",
       "    </tr>\n",
       "    <tr>\n",
       "      <th>order_delivered_carrier_date</th>\n",
       "      <td>2018-01-23 19:18:58</td>\n",
       "    </tr>\n",
       "    <tr>\n",
       "      <th>order_delivered_customer_date</th>\n",
       "      <td>2018-01-29 15:13:42</td>\n",
       "    </tr>\n",
       "    <tr>\n",
       "      <th>order_estimated_delivery_date</th>\n",
       "      <td>2018-02-19 00:00:00</td>\n",
       "    </tr>\n",
       "    <tr>\n",
       "      <th>order_purchase_year_week</th>\n",
       "      <td>201803</td>\n",
       "    </tr>\n",
       "  </tbody>\n",
       "</table>\n",
       "</div>"
      ],
      "text/plain": [
       "                                                          32198\n",
       "order_id                       8c59638b578341d034f1d7ffce0a5575\n",
       "customer_id                    9e8589c52f8d894c393473469d98624c\n",
       "order_status                                          delivered\n",
       "order_purchase_timestamp                    2018-01-21 20:54:08\n",
       "order_approved_at                           2018-01-22 13:59:03\n",
       "order_delivered_carrier_date                2018-01-23 19:18:58\n",
       "order_delivered_customer_date               2018-01-29 15:13:42\n",
       "order_estimated_delivery_date               2018-02-19 00:00:00\n",
       "order_purchase_year_week                                 201803"
      ]
     },
     "execution_count": 17,
     "metadata": {},
     "output_type": "execute_result"
    }
   ],
   "source": [
    "df2.sample().T"
   ]
  },
  {
   "cell_type": "markdown",
   "id": "81c195b5",
   "metadata": {},
   "source": [
    "# 3.0. Data Selection"
   ]
  },
  {
   "cell_type": "code",
   "execution_count": 18,
   "id": "bf6332c5",
   "metadata": {},
   "outputs": [],
   "source": [
    "df3 = df2.copy()"
   ]
  },
  {
   "cell_type": "code",
   "execution_count": 19,
   "id": "9abe7e3f",
   "metadata": {},
   "outputs": [
    {
     "data": {
      "text/html": [
       "<div>\n",
       "<style scoped>\n",
       "    .dataframe tbody tr th:only-of-type {\n",
       "        vertical-align: middle;\n",
       "    }\n",
       "\n",
       "    .dataframe tbody tr th {\n",
       "        vertical-align: top;\n",
       "    }\n",
       "\n",
       "    .dataframe thead th {\n",
       "        text-align: right;\n",
       "    }\n",
       "</style>\n",
       "<table border=\"1\" class=\"dataframe\">\n",
       "  <thead>\n",
       "    <tr style=\"text-align: right;\">\n",
       "      <th></th>\n",
       "      <th>order_id</th>\n",
       "      <th>customer_id</th>\n",
       "      <th>order_status</th>\n",
       "      <th>order_purchase_timestamp</th>\n",
       "      <th>order_approved_at</th>\n",
       "      <th>order_delivered_carrier_date</th>\n",
       "      <th>order_delivered_customer_date</th>\n",
       "      <th>order_estimated_delivery_date</th>\n",
       "      <th>order_purchase_year_week</th>\n",
       "    </tr>\n",
       "  </thead>\n",
       "  <tbody>\n",
       "    <tr>\n",
       "      <th>0</th>\n",
       "      <td>e481f51cbdc54678b7cc49136f2d6af7</td>\n",
       "      <td>9ef432eb6251297304e76186b10a928d</td>\n",
       "      <td>delivered</td>\n",
       "      <td>2017-10-02 10:56:33</td>\n",
       "      <td>2017-10-02 11:07:15</td>\n",
       "      <td>2017-10-04 19:55:00</td>\n",
       "      <td>2017-10-10 21:25:13</td>\n",
       "      <td>2017-10-18 00:00:00</td>\n",
       "      <td>201740</td>\n",
       "    </tr>\n",
       "    <tr>\n",
       "      <th>1</th>\n",
       "      <td>53cdb2fc8bc7dce0b6741e2150273451</td>\n",
       "      <td>b0830fb4747a6c6d20dea0b8c802d7ef</td>\n",
       "      <td>delivered</td>\n",
       "      <td>2018-07-24 20:41:37</td>\n",
       "      <td>2018-07-26 03:24:27</td>\n",
       "      <td>2018-07-26 14:31:00</td>\n",
       "      <td>2018-08-07 15:27:45</td>\n",
       "      <td>2018-08-13 00:00:00</td>\n",
       "      <td>201830</td>\n",
       "    </tr>\n",
       "    <tr>\n",
       "      <th>2</th>\n",
       "      <td>47770eb9100c2d0c44946d9cf07ec65d</td>\n",
       "      <td>41ce2a54c0b03bf3443c3d931a367089</td>\n",
       "      <td>delivered</td>\n",
       "      <td>2018-08-08 08:38:49</td>\n",
       "      <td>2018-08-08 08:55:23</td>\n",
       "      <td>2018-08-08 13:50:00</td>\n",
       "      <td>2018-08-17 18:06:29</td>\n",
       "      <td>2018-09-04 00:00:00</td>\n",
       "      <td>201832</td>\n",
       "    </tr>\n",
       "    <tr>\n",
       "      <th>3</th>\n",
       "      <td>949d5b44dbf5de918fe9c16f97b45f8a</td>\n",
       "      <td>f88197465ea7920adcdbec7375364d82</td>\n",
       "      <td>delivered</td>\n",
       "      <td>2017-11-18 19:28:06</td>\n",
       "      <td>2017-11-18 19:45:59</td>\n",
       "      <td>2017-11-22 13:39:59</td>\n",
       "      <td>2017-12-02 00:28:42</td>\n",
       "      <td>2017-12-15 00:00:00</td>\n",
       "      <td>201746</td>\n",
       "    </tr>\n",
       "    <tr>\n",
       "      <th>4</th>\n",
       "      <td>ad21c59c0840e6cb83a9ceb5573f8159</td>\n",
       "      <td>8ab97904e6daea8866dbdbc4fb7aad2c</td>\n",
       "      <td>delivered</td>\n",
       "      <td>2018-02-13 21:18:39</td>\n",
       "      <td>2018-02-13 22:20:29</td>\n",
       "      <td>2018-02-14 19:46:34</td>\n",
       "      <td>2018-02-16 18:17:02</td>\n",
       "      <td>2018-02-26 00:00:00</td>\n",
       "      <td>201807</td>\n",
       "    </tr>\n",
       "  </tbody>\n",
       "</table>\n",
       "</div>"
      ],
      "text/plain": [
       "                           order_id                       customer_id  \\\n",
       "0  e481f51cbdc54678b7cc49136f2d6af7  9ef432eb6251297304e76186b10a928d   \n",
       "1  53cdb2fc8bc7dce0b6741e2150273451  b0830fb4747a6c6d20dea0b8c802d7ef   \n",
       "2  47770eb9100c2d0c44946d9cf07ec65d  41ce2a54c0b03bf3443c3d931a367089   \n",
       "3  949d5b44dbf5de918fe9c16f97b45f8a  f88197465ea7920adcdbec7375364d82   \n",
       "4  ad21c59c0840e6cb83a9ceb5573f8159  8ab97904e6daea8866dbdbc4fb7aad2c   \n",
       "\n",
       "  order_status order_purchase_timestamp    order_approved_at  \\\n",
       "0    delivered      2017-10-02 10:56:33  2017-10-02 11:07:15   \n",
       "1    delivered      2018-07-24 20:41:37  2018-07-26 03:24:27   \n",
       "2    delivered      2018-08-08 08:38:49  2018-08-08 08:55:23   \n",
       "3    delivered      2017-11-18 19:28:06  2017-11-18 19:45:59   \n",
       "4    delivered      2018-02-13 21:18:39  2018-02-13 22:20:29   \n",
       "\n",
       "  order_delivered_carrier_date order_delivered_customer_date  \\\n",
       "0          2017-10-04 19:55:00           2017-10-10 21:25:13   \n",
       "1          2018-07-26 14:31:00           2018-08-07 15:27:45   \n",
       "2          2018-08-08 13:50:00           2018-08-17 18:06:29   \n",
       "3          2017-11-22 13:39:59           2017-12-02 00:28:42   \n",
       "4          2018-02-14 19:46:34           2018-02-16 18:17:02   \n",
       "\n",
       "  order_estimated_delivery_date order_purchase_year_week  \n",
       "0           2017-10-18 00:00:00                   201740  \n",
       "1           2018-08-13 00:00:00                   201830  \n",
       "2           2018-09-04 00:00:00                   201832  \n",
       "3           2017-12-15 00:00:00                   201746  \n",
       "4           2018-02-26 00:00:00                   201807  "
      ]
     },
     "execution_count": 19,
     "metadata": {},
     "output_type": "execute_result"
    }
   ],
   "source": [
    "df3.head()"
   ]
  },
  {
   "cell_type": "code",
   "execution_count": 20,
   "id": "451bb2f2",
   "metadata": {},
   "outputs": [
    {
     "data": {
      "text/plain": [
       "Index(['order_id', 'customer_id', 'order_status', 'order_purchase_timestamp',\n",
       "       'order_approved_at', 'order_delivered_carrier_date',\n",
       "       'order_delivered_customer_date', 'order_estimated_delivery_date',\n",
       "       'order_purchase_year_week'],\n",
       "      dtype='object')"
      ]
     },
     "execution_count": 20,
     "metadata": {},
     "output_type": "execute_result"
    }
   ],
   "source": [
    "df3.columns"
   ]
  },
  {
   "cell_type": "code",
   "execution_count": 21,
   "id": "b86385cc",
   "metadata": {},
   "outputs": [
    {
     "data": {
      "text/plain": [
       "<bound method Series.drop_duplicates of 0        delivered\n",
       "1        delivered\n",
       "2        delivered\n",
       "3        delivered\n",
       "4        delivered\n",
       "           ...    \n",
       "99436    delivered\n",
       "99437    delivered\n",
       "99438    delivered\n",
       "99439    delivered\n",
       "99440    delivered\n",
       "Name: order_status, Length: 99441, dtype: object>"
      ]
     },
     "execution_count": 21,
     "metadata": {},
     "output_type": "execute_result"
    }
   ],
   "source": [
    "df3['order_status'].drop_duplicates"
   ]
  },
  {
   "cell_type": "code",
   "execution_count": 22,
   "id": "846ac52a",
   "metadata": {},
   "outputs": [],
   "source": [
    "df3 = df3[df3['order_status'] == 'canceled'][['order_id', 'order_purchase_year_week']]"
   ]
  },
  {
   "cell_type": "code",
   "execution_count": 23,
   "id": "2db751d0",
   "metadata": {},
   "outputs": [
    {
     "data": {
      "text/html": [
       "<div>\n",
       "<style scoped>\n",
       "    .dataframe tbody tr th:only-of-type {\n",
       "        vertical-align: middle;\n",
       "    }\n",
       "\n",
       "    .dataframe tbody tr th {\n",
       "        vertical-align: top;\n",
       "    }\n",
       "\n",
       "    .dataframe thead th {\n",
       "        text-align: right;\n",
       "    }\n",
       "</style>\n",
       "<table border=\"1\" class=\"dataframe\">\n",
       "  <thead>\n",
       "    <tr style=\"text-align: right;\">\n",
       "      <th></th>\n",
       "      <th>order_id</th>\n",
       "      <th>order_purchase_year_week</th>\n",
       "    </tr>\n",
       "  </thead>\n",
       "  <tbody>\n",
       "    <tr>\n",
       "      <th>397</th>\n",
       "      <td>1b9ecfe83cdc259250e1a8aca174f0ad</td>\n",
       "      <td>201831</td>\n",
       "    </tr>\n",
       "    <tr>\n",
       "      <th>613</th>\n",
       "      <td>714fb133a6730ab81fa1d3c1b2007291</td>\n",
       "      <td>201804</td>\n",
       "    </tr>\n",
       "    <tr>\n",
       "      <th>1058</th>\n",
       "      <td>3a129877493c8189c59c60eb71d97c29</td>\n",
       "      <td>201804</td>\n",
       "    </tr>\n",
       "    <tr>\n",
       "      <th>1130</th>\n",
       "      <td>00b1cb0320190ca0daa2c88b35206009</td>\n",
       "      <td>201835</td>\n",
       "    </tr>\n",
       "    <tr>\n",
       "      <th>1801</th>\n",
       "      <td>ed3efbd3a87bea76c2812c66a0b32219</td>\n",
       "      <td>201838</td>\n",
       "    </tr>\n",
       "  </tbody>\n",
       "</table>\n",
       "</div>"
      ],
      "text/plain": [
       "                              order_id order_purchase_year_week\n",
       "397   1b9ecfe83cdc259250e1a8aca174f0ad                   201831\n",
       "613   714fb133a6730ab81fa1d3c1b2007291                   201804\n",
       "1058  3a129877493c8189c59c60eb71d97c29                   201804\n",
       "1130  00b1cb0320190ca0daa2c88b35206009                   201835\n",
       "1801  ed3efbd3a87bea76c2812c66a0b32219                   201838"
      ]
     },
     "execution_count": 23,
     "metadata": {},
     "output_type": "execute_result"
    }
   ],
   "source": [
    "df3.head()"
   ]
  },
  {
   "cell_type": "markdown",
   "id": "91d0f03a",
   "metadata": {},
   "source": [
    "# 4.0. Data Preparation"
   ]
  },
  {
   "cell_type": "code",
   "execution_count": 27,
   "id": "ad86d4ac",
   "metadata": {},
   "outputs": [],
   "source": [
    "df4 = df3.copy()"
   ]
  },
  {
   "cell_type": "code",
   "execution_count": 28,
   "id": "07686911",
   "metadata": {},
   "outputs": [],
   "source": [
    "df4 = df4.groupby( 'order_purchase_year_week' ).count().reset_index()"
   ]
  },
  {
   "cell_type": "code",
   "execution_count": 29,
   "id": "61ffd56b",
   "metadata": {},
   "outputs": [
    {
     "ename": "KeyError",
     "evalue": "'order_puchase_year_week'",
     "output_type": "error",
     "traceback": [
      "\u001b[1;31m---------------------------------------------------------------------------\u001b[0m",
      "\u001b[1;31mKeyError\u001b[0m                                  Traceback (most recent call last)",
      "\u001b[1;32m<ipython-input-29-d92b401cd570>\u001b[0m in \u001b[0;36m<module>\u001b[1;34m\u001b[0m\n\u001b[1;32m----> 1\u001b[1;33m \u001b[0mdf4\u001b[0m \u001b[1;33m=\u001b[0m \u001b[0mdf4\u001b[0m\u001b[1;33m.\u001b[0m\u001b[0msort_values\u001b[0m\u001b[1;33m(\u001b[0m \u001b[1;34m'order_puchase_year_week'\u001b[0m \u001b[1;33m)\u001b[0m\u001b[1;33m\u001b[0m\u001b[1;33m\u001b[0m\u001b[0m\n\u001b[0m",
      "\u001b[1;32mc:\\users\\santo\\appdata\\local\\programs\\python\\python39\\lib\\site-packages\\pandas\\core\\frame.py\u001b[0m in \u001b[0;36msort_values\u001b[1;34m(self, by, axis, ascending, inplace, kind, na_position, ignore_index, key)\u001b[0m\n\u001b[0;32m   5453\u001b[0m \u001b[1;33m\u001b[0m\u001b[0m\n\u001b[0;32m   5454\u001b[0m             \u001b[0mby\u001b[0m \u001b[1;33m=\u001b[0m \u001b[0mby\u001b[0m\u001b[1;33m[\u001b[0m\u001b[1;36m0\u001b[0m\u001b[1;33m]\u001b[0m\u001b[1;33m\u001b[0m\u001b[1;33m\u001b[0m\u001b[0m\n\u001b[1;32m-> 5455\u001b[1;33m             \u001b[0mk\u001b[0m \u001b[1;33m=\u001b[0m \u001b[0mself\u001b[0m\u001b[1;33m.\u001b[0m\u001b[0m_get_label_or_level_values\u001b[0m\u001b[1;33m(\u001b[0m\u001b[0mby\u001b[0m\u001b[1;33m,\u001b[0m \u001b[0maxis\u001b[0m\u001b[1;33m=\u001b[0m\u001b[0maxis\u001b[0m\u001b[1;33m)\u001b[0m\u001b[1;33m\u001b[0m\u001b[1;33m\u001b[0m\u001b[0m\n\u001b[0m\u001b[0;32m   5456\u001b[0m \u001b[1;33m\u001b[0m\u001b[0m\n\u001b[0;32m   5457\u001b[0m             \u001b[1;31m# need to rewrap column in Series to apply key function\u001b[0m\u001b[1;33m\u001b[0m\u001b[1;33m\u001b[0m\u001b[1;33m\u001b[0m\u001b[0m\n",
      "\u001b[1;32mc:\\users\\santo\\appdata\\local\\programs\\python\\python39\\lib\\site-packages\\pandas\\core\\generic.py\u001b[0m in \u001b[0;36m_get_label_or_level_values\u001b[1;34m(self, key, axis)\u001b[0m\n\u001b[0;32m   1682\u001b[0m             \u001b[0mvalues\u001b[0m \u001b[1;33m=\u001b[0m \u001b[0mself\u001b[0m\u001b[1;33m.\u001b[0m\u001b[0maxes\u001b[0m\u001b[1;33m[\u001b[0m\u001b[0maxis\u001b[0m\u001b[1;33m]\u001b[0m\u001b[1;33m.\u001b[0m\u001b[0mget_level_values\u001b[0m\u001b[1;33m(\u001b[0m\u001b[0mkey\u001b[0m\u001b[1;33m)\u001b[0m\u001b[1;33m.\u001b[0m\u001b[0m_values\u001b[0m\u001b[1;33m\u001b[0m\u001b[1;33m\u001b[0m\u001b[0m\n\u001b[0;32m   1683\u001b[0m         \u001b[1;32melse\u001b[0m\u001b[1;33m:\u001b[0m\u001b[1;33m\u001b[0m\u001b[1;33m\u001b[0m\u001b[0m\n\u001b[1;32m-> 1684\u001b[1;33m             \u001b[1;32mraise\u001b[0m \u001b[0mKeyError\u001b[0m\u001b[1;33m(\u001b[0m\u001b[0mkey\u001b[0m\u001b[1;33m)\u001b[0m\u001b[1;33m\u001b[0m\u001b[1;33m\u001b[0m\u001b[0m\n\u001b[0m\u001b[0;32m   1685\u001b[0m \u001b[1;33m\u001b[0m\u001b[0m\n\u001b[0;32m   1686\u001b[0m         \u001b[1;31m# Check for duplicates\u001b[0m\u001b[1;33m\u001b[0m\u001b[1;33m\u001b[0m\u001b[1;33m\u001b[0m\u001b[0m\n",
      "\u001b[1;31mKeyError\u001b[0m: 'order_puchase_year_week'"
     ]
    }
   ],
   "source": [
    "df4 = df4.sort_values( 'order_puchase_year_week' )"
   ]
  },
  {
   "cell_type": "code",
   "execution_count": 30,
   "id": "7944e4f8",
   "metadata": {},
   "outputs": [
    {
     "data": {
      "text/html": [
       "<div>\n",
       "<style scoped>\n",
       "    .dataframe tbody tr th:only-of-type {\n",
       "        vertical-align: middle;\n",
       "    }\n",
       "\n",
       "    .dataframe tbody tr th {\n",
       "        vertical-align: top;\n",
       "    }\n",
       "\n",
       "    .dataframe thead th {\n",
       "        text-align: right;\n",
       "    }\n",
       "</style>\n",
       "<table border=\"1\" class=\"dataframe\">\n",
       "  <thead>\n",
       "    <tr style=\"text-align: right;\">\n",
       "      <th></th>\n",
       "      <th>order_purchase_year_week</th>\n",
       "      <th>order_id</th>\n",
       "    </tr>\n",
       "  </thead>\n",
       "  <tbody>\n",
       "    <tr>\n",
       "      <th>0</th>\n",
       "      <td>201636</td>\n",
       "      <td>1</td>\n",
       "    </tr>\n",
       "    <tr>\n",
       "      <th>1</th>\n",
       "      <td>201637</td>\n",
       "      <td>1</td>\n",
       "    </tr>\n",
       "    <tr>\n",
       "      <th>2</th>\n",
       "      <td>201639</td>\n",
       "      <td>1</td>\n",
       "    </tr>\n",
       "    <tr>\n",
       "      <th>3</th>\n",
       "      <td>201640</td>\n",
       "      <td>20</td>\n",
       "    </tr>\n",
       "    <tr>\n",
       "      <th>4</th>\n",
       "      <td>201641</td>\n",
       "      <td>2</td>\n",
       "    </tr>\n",
       "    <tr>\n",
       "      <th>5</th>\n",
       "      <td>201642</td>\n",
       "      <td>1</td>\n",
       "    </tr>\n",
       "    <tr>\n",
       "      <th>6</th>\n",
       "      <td>201702</td>\n",
       "      <td>2</td>\n",
       "    </tr>\n",
       "    <tr>\n",
       "      <th>7</th>\n",
       "      <td>201704</td>\n",
       "      <td>1</td>\n",
       "    </tr>\n",
       "    <tr>\n",
       "      <th>8</th>\n",
       "      <td>201705</td>\n",
       "      <td>4</td>\n",
       "    </tr>\n",
       "    <tr>\n",
       "      <th>9</th>\n",
       "      <td>201706</td>\n",
       "      <td>4</td>\n",
       "    </tr>\n",
       "    <tr>\n",
       "      <th>10</th>\n",
       "      <td>201707</td>\n",
       "      <td>3</td>\n",
       "    </tr>\n",
       "    <tr>\n",
       "      <th>11</th>\n",
       "      <td>201708</td>\n",
       "      <td>4</td>\n",
       "    </tr>\n",
       "    <tr>\n",
       "      <th>12</th>\n",
       "      <td>201709</td>\n",
       "      <td>7</td>\n",
       "    </tr>\n",
       "    <tr>\n",
       "      <th>13</th>\n",
       "      <td>201710</td>\n",
       "      <td>7</td>\n",
       "    </tr>\n",
       "    <tr>\n",
       "      <th>14</th>\n",
       "      <td>201711</td>\n",
       "      <td>5</td>\n",
       "    </tr>\n",
       "    <tr>\n",
       "      <th>15</th>\n",
       "      <td>201712</td>\n",
       "      <td>11</td>\n",
       "    </tr>\n",
       "    <tr>\n",
       "      <th>16</th>\n",
       "      <td>201713</td>\n",
       "      <td>5</td>\n",
       "    </tr>\n",
       "    <tr>\n",
       "      <th>17</th>\n",
       "      <td>201714</td>\n",
       "      <td>3</td>\n",
       "    </tr>\n",
       "    <tr>\n",
       "      <th>18</th>\n",
       "      <td>201715</td>\n",
       "      <td>5</td>\n",
       "    </tr>\n",
       "    <tr>\n",
       "      <th>19</th>\n",
       "      <td>201716</td>\n",
       "      <td>5</td>\n",
       "    </tr>\n",
       "  </tbody>\n",
       "</table>\n",
       "</div>"
      ],
      "text/plain": [
       "   order_purchase_year_week  order_id\n",
       "0                    201636         1\n",
       "1                    201637         1\n",
       "2                    201639         1\n",
       "3                    201640        20\n",
       "4                    201641         2\n",
       "5                    201642         1\n",
       "6                    201702         2\n",
       "7                    201704         1\n",
       "8                    201705         4\n",
       "9                    201706         4\n",
       "10                   201707         3\n",
       "11                   201708         4\n",
       "12                   201709         7\n",
       "13                   201710         7\n",
       "14                   201711         5\n",
       "15                   201712        11\n",
       "16                   201713         5\n",
       "17                   201714         3\n",
       "18                   201715         5\n",
       "19                   201716         5"
      ]
     },
     "execution_count": 30,
     "metadata": {},
     "output_type": "execute_result"
    }
   ],
   "source": [
    "df4.head(20)"
   ]
  },
  {
   "cell_type": "code",
   "execution_count": 31,
   "id": "cd45e9ba",
   "metadata": {},
   "outputs": [],
   "source": [
    "count_data = np.array(df4['order_id'])\n",
    "n_count_data = len( count_data )"
   ]
  },
  {
   "cell_type": "code",
   "execution_count": 45,
   "id": "18333545",
   "metadata": {},
   "outputs": [
    {
     "data": {
      "image/png": "[encoded data removed]",
      "text/plain": [
       "<Figure size 1296x576 with 1 Axes>"
      ]
     },
     "metadata": {
      "needs_background": "light"
     },
     "output_type": "display_data"
    }
   ],
   "source": [
    "plt.figure(figsize=(18,8))\n",
    "plt.bar(np.arange ( n_count_data), count_data)\n",
    "plt.xlim( [0, n_count_data] );"
   ]
  },
  {
   "cell_type": "markdown",
   "id": "572d4fcc",
   "metadata": {},
   "source": [
    "# 5.0. Bayesian Inference "
   ]
  },
  {
   "cell_type": "code",
   "execution_count": 46,
   "id": "c35a0f83",
   "metadata": {},
   "outputs": [
    {
     "name": "stderr",
     "output_type": "stream",
     "text": [
      "<ipython-input-46-5928719e2bcb>:14: FutureWarning: In v4.0, pm.sample will return an `arviz.InferenceData` object instead of a `MultiTrace` by default. You can pass return_inferencedata=True or return_inferencedata=False to be safe and silence this warning.\n",
      "  trace = pm.sample(draws=10000, tune=5000, step=pm.Metropolis())\n",
      "Multiprocess sampling (4 chains in 4 jobs)\n",
      "CompoundStep\n",
      ">Metropolis: [tau]\n",
      ">Metropolis: [lambda_02]\n",
      ">Metropolis: [lambda_01]\n"
     ]
    },
    {
     "data": {
      "text/html": [
       "\n",
       "    <div>\n",
       "        <style>\n",
       "            /* Turns off some styling */\n",
       "            progress {\n",
       "                /* gets rid of default border in Firefox and Opera. */\n",
       "                border: none;\n",
       "                /* Needs to be in here for Safari polyfill so background images work as expected. */\n",
       "                background-size: auto;\n",
       "            }\n",
       "            .progress-bar-interrupted, .progress-bar-interrupted::-webkit-progress-bar {\n",
       "                background: #F44336;\n",
       "            }\n",
       "        </style>\n",
       "      <progress value='60000' class='' max='60000' style='width:300px; height:20px; vertical-align: middle;'></progress>\n",
       "      100.00% [60000/60000 08:08<00:00 Sampling 4 chains, 0 divergences]\n",
       "    </div>\n",
       "    "
      ],
      "text/plain": [
       "<IPython.core.display.HTML object>"
      ]
     },
     "metadata": {},
     "output_type": "display_data"
    },
    {
     "name": "stderr",
     "output_type": "stream",
     "text": [
      "Sampling 4 chains for 5_000 tune and 10_000 draw iterations (20_000 + 40_000 draws total) took 496 seconds.\n",
      "The number of effective samples is smaller than 25% for some parameters.\n"
     ]
    }
   ],
   "source": [
    "with pm.Model() as model:\n",
    "    # Prior \n",
    "    alpha = 1.0 / count_data.mean()\n",
    "    lambda_01 = pm.Exponential ( 'lambda_01', alpha)\n",
    "    lambda_02 = pm.Exponential ( 'lambda_02', alpha)\n",
    "\n",
    "    tau = pm.DiscreteUniform( 'tau', lower=0, upper=n_count_data-1)\n",
    "\n",
    "    # Posterior\n",
    "    idx = np.arange( n_count_data )\n",
    "    lambda_ = pm.math.switch( tau > idx, lambda_01, lambda_02 )\n",
    "    obs = pm.Poisson ( 'obs', lambda_, observed=count_data )\n",
    "    #Likelihood\n",
    "    trace = pm.sample(draws=10000, tune=5000, step=pm.Metropolis())"
   ]
  },
  {
   "cell_type": "code",
   "execution_count": 48,
   "id": "7f12d8ca",
   "metadata": {},
   "outputs": [
    {
     "ename": "NameError",
     "evalue": "name 'n_cout_data' is not defined",
     "output_type": "error",
     "traceback": [
      "\u001b[1;31m---------------------------------------------------------------------------\u001b[0m",
      "\u001b[1;31mNameError\u001b[0m                                 Traceback (most recent call last)",
      "\u001b[1;32m<ipython-input-48-6605e6215183>\u001b[0m in \u001b[0;36m<module>\u001b[1;34m\u001b[0m\n\u001b[0;32m     13\u001b[0m \u001b[0mplt\u001b[0m\u001b[1;33m.\u001b[0m\u001b[0msubplot\u001b[0m\u001b[1;33m(\u001b[0m\u001b[1;36m313\u001b[0m\u001b[1;33m)\u001b[0m\u001b[1;33m\u001b[0m\u001b[1;33m\u001b[0m\u001b[0m\n\u001b[0;32m     14\u001b[0m \u001b[0mw\u001b[0m \u001b[1;33m=\u001b[0m \u001b[1;36m1.0\u001b[0m \u001b[1;33m/\u001b[0m  \u001b[0mtrace\u001b[0m\u001b[1;33m[\u001b[0m\u001b[1;34m'tau'\u001b[0m\u001b[1;33m]\u001b[0m\u001b[1;33m.\u001b[0m\u001b[0mshape\u001b[0m\u001b[1;33m[\u001b[0m\u001b[1;36m0\u001b[0m\u001b[1;33m]\u001b[0m \u001b[1;33m*\u001b[0m \u001b[0mnp\u001b[0m\u001b[1;33m.\u001b[0m\u001b[0mones_like\u001b[0m\u001b[1;33m(\u001b[0m \u001b[0mtrace\u001b[0m\u001b[1;33m[\u001b[0m\u001b[1;34m'tau'\u001b[0m\u001b[1;33m]\u001b[0m \u001b[1;33m)\u001b[0m\u001b[1;33m\u001b[0m\u001b[1;33m\u001b[0m\u001b[0m\n\u001b[1;32m---> 15\u001b[1;33m \u001b[0mplt\u001b[0m\u001b[1;33m.\u001b[0m\u001b[0mhist\u001b[0m\u001b[1;33m(\u001b[0m \u001b[0mtrace\u001b[0m\u001b[1;33m[\u001b[0m\u001b[1;34m'tau'\u001b[0m\u001b[1;33m]\u001b[0m\u001b[1;33m,\u001b[0m \u001b[0mbins\u001b[0m\u001b[1;33m=\u001b[0m\u001b[0mn_cout_data\u001b[0m\u001b[1;33m,\u001b[0m \u001b[0mweights\u001b[0m\u001b[1;33m=\u001b[0m\u001b[0mw\u001b[0m\u001b[1;33m,\u001b[0m \u001b[0mrwidth\u001b[0m\u001b[1;33m=\u001b[0m\u001b[1;36m2.\u001b[0m\u001b[1;33m)\u001b[0m\u001b[1;33m;\u001b[0m\u001b[1;33m\u001b[0m\u001b[1;33m\u001b[0m\u001b[0m\n\u001b[0m\u001b[0;32m     16\u001b[0m \u001b[0mplt\u001b[0m\u001b[1;33m.\u001b[0m\u001b[0mxlim\u001b[0m\u001b[1;33m(\u001b[0m \u001b[1;33m[\u001b[0m\u001b[1;36m40\u001b[0m\u001b[1;33m,\u001b[0m \u001b[0mn_count_data\u001b[0m\u001b[1;33m-\u001b[0m\u001b[1;36m30\u001b[0m\u001b[1;33m]\u001b[0m \u001b[1;33m)\u001b[0m\u001b[1;33m;\u001b[0m\u001b[1;33m\u001b[0m\u001b[1;33m\u001b[0m\u001b[0m\n",
      "\u001b[1;31mNameError\u001b[0m: name 'n_cout_data' is not defined"
     ]
    },
    {
     "data": {
      "image/png": "[encoded data removed]",
      "text/plain": [
       "<Figure size 1296x720 with 3 Axes>"
      ]
     },
     "metadata": {
      "needs_background": "light"
     },
     "output_type": "display_data"
    }
   ],
   "source": [
    "# posterior\n",
    "\n",
    "plt.figure( figsize=(18, 10))\n",
    "\n",
    "plt.subplot(311)\n",
    "plt.hist( trace['lambda_01'], histtype='stepfilled', bins=30, density=True);\n",
    "plt.xlim( [0, 15] );\n",
    "\n",
    "plt.subplot(312)\n",
    "plt.hist( trace['lambda_02'], histtype='stepfilled', bins=30, density=True);\n",
    "plt.xlim( [0, 15] );\n",
    "\n",
    "plt.subplot(313)\n",
    "w = 1.0 /  trace['tau'].shape[0] * np.ones_like( trace['tau'] )\n",
    "plt.hist( trace['tau'], bins=n_cout_data, weights=w, rwidth=2.);\n",
    "plt.xlim( [40, n_count_data-30] );"
   ]
  },
  {
   "cell_type": "code",
   "execution_count": 49,
   "id": "70538470",
   "metadata": {},
   "outputs": [
    {
     "data": {
      "text/plain": [
       "5.101632687705682"
      ]
     },
     "execution_count": 49,
     "metadata": {},
     "output_type": "execute_result"
    }
   ],
   "source": [
    "trace['lambda_01'].mean()"
   ]
  },
  {
   "cell_type": "code",
   "execution_count": 50,
   "id": "8a736159",
   "metadata": {},
   "outputs": [
    {
     "data": {
      "text/plain": [
       "8.641996501892129"
      ]
     },
     "execution_count": 50,
     "metadata": {},
     "output_type": "execute_result"
    }
   ],
   "source": [
    "trace['lambda_02'].mean()"
   ]
  },
  {
   "cell_type": "code",
   "execution_count": 57,
   "id": "a766398b",
   "metadata": {},
   "outputs": [
    {
     "data": {
      "image/png": "[encoded data removed]",
      "text/plain": [
       "<Figure size 1296x720 with 1 Axes>"
      ]
     },
     "metadata": {
      "needs_background": "light"
     },
     "output_type": "display_data"
    }
   ],
   "source": [
    "plt.figure(figsize=(18,10))\n",
    "# Behaviour plot\n",
    "canceled_by_day = np.zeros( n_count_data )\n",
    "for day in range( 0, n_count_data ):\n",
    "    ix = day < trace['tau']\n",
    "    canceled_by_day[day] = ( trace['lambda_01'][ix].sum() + trace['lambda_02'][~ix].sum() ) / trace['tau'].shape[0]\n",
    "\n",
    "# plots\n",
    "plt.plot( range( n_count_data ), canceled_by_day, color='red')\n",
    "plt.ylim([0, 30])\n",
    "\n",
    "plt.bar(np.arange ( n_count_data), count_data)\n",
    "plt.xlim( [0, n_count_data] );"
   ]
  },
  {
   "cell_type": "code",
   "execution_count": null,
   "id": "0272903c",
   "metadata": {},
   "outputs": [],
   "source": []
  },
  {
   "cell_type": "code",
   "execution_count": null,
   "id": "4abac743",
   "metadata": {},
   "outputs": [],
   "source": []
  },
  {
   "cell_type": "code",
   "execution_count": null,
   "id": "a10e6425",
   "metadata": {},
   "outputs": [],
   "source": []
  },
  {
   "cell_type": "code",
   "execution_count": null,
   "id": "738966b5",
   "metadata": {},
   "outputs": [],
   "source": []
  },
  {
   "cell_type": "code",
   "execution_count": null,
   "id": "4f2ebc1f",
   "metadata": {},
   "outputs": [],
   "source": []
  }
 ],
 "metadata": {
  "kernelspec": {
   "display_name": "Python 3",
   "language": "python",
   "name": "python3"
  },
  "language_info": {
   "codemirror_mode": {
    "name": "ipython",
    "version": 3
   },
   "file_extension": ".py",
   "mimetype": "text/x-python",
   "name": "python",
   "nbconvert_exporter": "python",
   "pygments_lexer": "ipython3",
   "version": "3.9.5"
  }
 },
 "nbformat": 4,
 "nbformat_minor": 5
}
